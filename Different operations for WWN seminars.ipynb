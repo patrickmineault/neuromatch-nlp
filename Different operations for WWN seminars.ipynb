{
 "cells": [
  {
   "cell_type": "code",
   "execution_count": 1,
   "id": "5d78f1ce-8450-4f16-a327-e2593306c589",
   "metadata": {},
   "outputs": [],
   "source": [
    "import json\n",
    "\n",
    "with open('wwn-seminars.json') as f:\n",
    "    data = json.load(f)"
   ]
  },
  {
   "cell_type": "code",
   "execution_count": 133,
   "id": "df49a30d-9cf3-45a2-b158-a342bc0cd89e",
   "metadata": {},
   "outputs": [
    {
     "data": {
      "text/plain": [
       "{'seminar_date': 'Thu, Jun 30, 2022',\n",
       " 'seminar_time': '16:00',\n",
       " 'timezone': 'Europe/Berlin',\n",
       " 'posted': 'yes',\n",
       " 'seminar_link': 'https://docs.google.com/forms/d/1Jvt7DF-atGj_Wa9lO5HEz2az9pUZ8OYBXoi6fByKKCg/edit',\n",
       " 'password': '',\n",
       " 'video_on_demand': '',\n",
       " 'speaker_title': 'Prof.',\n",
       " 'seminar_speaker': 'Kou Murayama',\n",
       " 'speaker_affil': 'Hector Research Institute of Education Sciences and Psychology at Tübingen University',\n",
       " 'speaker_twitter': '@KouMurayama',\n",
       " 'speaker_website': 'https://uni-tuebingen.de/en/faculties/faculty-of-economics-and-social-sciences/subjects/department-of-social-sciences/education-sciences-and-psychology/institute/staff/murayama-kou-prof-dr/',\n",
       " 'topic_tags': [],\n",
       " 'seminar_title': '',\n",
       " 'seminar_abstract': '',\n",
       " 'hosted_by': 'Tubingen Neuro Campus',\n",
       " 'domain': ['Neuroscience'],\n",
       " 'timestamp': 1656604800,\n",
       " 'partition_key': '8352',\n",
       " 'calendar_event_hash': 'b6d1c86f9328f345da297361c69c83fb22ab06809bfd06d03e09e5f8538a7ab4',\n",
       " 'matching_data': None,\n",
       " 'seminar_id': 8352,\n",
       " 'time_of_addition': 'Wed, Mar 16, 2022 18:37',\n",
       " 'Event Duration': 70.000025,\n",
       " 'biorxiv_rec': False}"
      ]
     },
     "execution_count": 133,
     "metadata": {},
     "output_type": "execute_result"
    }
   ],
   "source": [
    "data[\"8352\"]"
   ]
  },
  {
   "cell_type": "markdown",
   "id": "884a56f0-fc37-497e-b192-722a3fc4509f",
   "metadata": {},
   "source": [
    "# Summarization\n",
    "\n",
    "Note default is ~3 sentences. TL;DR uses extreme summarization"
   ]
  },
  {
   "cell_type": "code",
   "execution_count": 50,
   "id": "43ea2a7a-aa4d-460e-af6c-3b984d7b448e",
   "metadata": {},
   "outputs": [
    {
     "data": {
      "application/vnd.jupyter.widget-view+json": {
       "model_id": "c86e11df313046378740d92e9496ba94",
       "version_major": 2,
       "version_minor": 0
      },
      "text/plain": [
       "Downloading:   0%|          | 0.00/1.53k [00:00<?, ?B/s]"
      ]
     },
     "metadata": {},
     "output_type": "display_data"
    },
    {
     "data": {
      "application/vnd.jupyter.widget-view+json": {
       "model_id": "55810352a5d7449abecd3e2d6797712a",
       "version_major": 2,
       "version_minor": 0
      },
      "text/plain": [
       "Downloading:   0%|          | 0.00/1.51G [00:00<?, ?B/s]"
      ]
     },
     "metadata": {},
     "output_type": "display_data"
    },
    {
     "data": {
      "application/vnd.jupyter.widget-view+json": {
       "model_id": "bbb4798ead18482990d4c87c1e0f1261",
       "version_major": 2,
       "version_minor": 0
      },
      "text/plain": [
       "Downloading:   0%|          | 0.00/337 [00:00<?, ?B/s]"
      ]
     },
     "metadata": {},
     "output_type": "display_data"
    },
    {
     "data": {
      "application/vnd.jupyter.widget-view+json": {
       "model_id": "1876e1bccd824286a6b5134f91cb46c2",
       "version_major": 2,
       "version_minor": 0
      },
      "text/plain": [
       "Downloading:   0%|          | 0.00/780k [00:00<?, ?B/s]"
      ]
     },
     "metadata": {},
     "output_type": "display_data"
    },
    {
     "data": {
      "application/vnd.jupyter.widget-view+json": {
       "model_id": "07dd259de0674a358a2999939882dd50",
       "version_major": 2,
       "version_minor": 0
      },
      "text/plain": [
       "Downloading:   0%|          | 0.00/446k [00:00<?, ?B/s]"
      ]
     },
     "metadata": {},
     "output_type": "display_data"
    },
    {
     "data": {
      "application/vnd.jupyter.widget-view+json": {
       "model_id": "ec7b97a0a0d64f14b65c4d872576d19d",
       "version_major": 2,
       "version_minor": 0
      },
      "text/plain": [
       "Downloading:   0%|          | 0.00/1.29M [00:00<?, ?B/s]"
      ]
     },
     "metadata": {},
     "output_type": "display_data"
    },
    {
     "data": {
      "application/vnd.jupyter.widget-view+json": {
       "model_id": "f7f9c601379043e08c76660a058cb57a",
       "version_major": 2,
       "version_minor": 0
      },
      "text/plain": [
       "Downloading:   0%|          | 0.00/239 [00:00<?, ?B/s]"
      ]
     },
     "metadata": {},
     "output_type": "display_data"
    }
   ],
   "source": [
    "summarizer = pipeline(\"summarization\", model=\"lrakotoson/scitldr-catts-xsum-ao\")"
   ]
  },
  {
   "cell_type": "code",
   "execution_count": 29,
   "id": "8032f36e-9e6e-4b8a-9ba0-289cc339cb99",
   "metadata": {},
   "outputs": [
    {
     "data": {
      "text/plain": [
       "[{'summary_text': ' Pediatric high-grade glioma (pHGG) are a devastating group of diseases that urgently require novel therapeutic options . We have previously demonstrated that pHGGs directly synapse onto neurons and the subsequent tumor cell depolarization, mediated by calcium-permeable AMPA channels, promotes their proliferation . Here, we investigated the role of BDNF-TrkB signaling in modulating the plasticity of the malignant synapse .'}]"
      ]
     },
     "execution_count": 29,
     "metadata": {},
     "output_type": "execute_result"
    }
   ],
   "source": [
    "summarizer(data['8237']['seminar_abstract'])"
   ]
  },
  {
   "cell_type": "code",
   "execution_count": 57,
   "id": "869b3920-d60f-4a7d-a4d3-42ebae6bb30a",
   "metadata": {},
   "outputs": [
    {
     "data": {
      "text/html": [
       "<div style=\"display:flex\">\n",
       "        <div style=\"padding: 10px; width:50%\"><h1>original</h1><p>Human genes associated with brain-related diseases are being discovered at an accelerating pace. A major challenge is an identification of the mechanisms through which these genes act, and of potential therapeutic strategies. To elucidate such mechanisms in human cells, we established a CRISPR-based platform for genetic screening in human iPSC-derived neurons, astrocytes and microglia. Our approach relies on CRISPR interference (CRISPRi) and CRISPR activation (CRISPRa), in which a catalytically dead version of the bacterial Cas9 protein recruits transcriptional repressors or activators, respectively, to endogenous genes to control their expression, as directed by a small guide RNA (sgRNA). Complex libraries of sgRNAs enable us to conduct genome-wide or focused loss-of-function and gain-of-function screens. Such screens uncover molecular players for phenotypes based on survival, stress resistance, fluorescent phenotypes, high-content imaging and single-cell RNA-Seq. To uncover disease mechanisms and therapeutic targets, we are conducting genetic modifier screens for disease-relevant cellular phenotypes in patient-derived neurons and glia with familial mutations and isogenic controls. In a genome-wide screen, we have uncovered genes that modulate the formation of disease-associated aggregates of tau in neurons with a tauopathy-linked mutation (MAPT V337M). CRISPRi/a can also be used to model and functionally evaluate disease-associated changes in gene expression, such as those caused by eQTLs, haploinsufficiency, or disease states of brain cells. We will discuss an application to Alzheimer’s Disease-associated genes in microglia.</p></div>\n",
       "        <div style=\"padding: 10px; width:50%\"><h1>tldr</h1><p>A CRISPR-based platform for genetic screening in iPSC-derived neurons, astrocytes and microglia.</p></div>\n",
       "        </div>\n",
       "     "
      ],
      "text/plain": [
       "<IPython.core.display.HTML object>"
      ]
     },
     "execution_count": 57,
     "metadata": {},
     "output_type": "execute_result"
    }
   ],
   "source": [
    "from IPython.core.display import HTML\n",
    "\n",
    "num = 6729\n",
    "\n",
    "abstract = data[f'{num}']['seminar_abstract']\n",
    "HTML(\n",
    "    f\"\"\"<div style=\"display:flex\">\n",
    "        <div style=\"padding: 10px; width:50%\"><h1>original</h1><p>{abstract}</p></div>\n",
    "        <div style=\"padding: 10px; width:50%\"><h1>tldr</h1><p>{summarizer(abstract)[0]['summary_text']}</p></div>\n",
    "        </div>\n",
    "     \"\"\"\n",
    ")"
   ]
  },
  {
   "cell_type": "markdown",
   "id": "c1b197ae-98aa-48e3-a27e-56c09e5e018e",
   "metadata": {},
   "source": [
    "# Similarity retrieval "
   ]
  },
  {
   "cell_type": "code",
   "execution_count": 63,
   "id": "9f3db311-952c-4b35-b132-bd3e259d7aa3",
   "metadata": {},
   "outputs": [
    {
     "data": {
      "text/plain": [
       "{'seminar_date': 'Thu, Apr 30, 2020',\n",
       " 'seminar_time': '16:00',\n",
       " 'timezone': 'Europe/London',\n",
       " 'posted': 'yes',\n",
       " 'seminar_link': 'https://t.co/T7FF9f3bm6?amp=1',\n",
       " 'password': '',\n",
       " 'video_on_demand': 'https://www.youtube.com/watch?v=S6Dxzajz5iM',\n",
       " 'speaker_title': 'Sir Prof',\n",
       " 'seminar_speaker': 'David Klenerman',\n",
       " 'speaker_affil': 'University of Cambridge',\n",
       " 'speaker_twitter': '@UKDRI',\n",
       " 'speaker_website': 'https://www.ch.cam.ac.uk/person/dk10012',\n",
       " 'topic_tags': ['disease', 'single-molecule fluorescence'],\n",
       " 'seminar_title': 'Watching single molecules in action: How this can be used in neurodegeneration',\n",
       " 'seminar_abstract': 'This talk aims to show how new physical methods can advance biological and biomedical research.  A major advance in physical chemistry in the last two decades has been the development of quantitative methods to directly observe individual molecules in solution, attached to surfaces, in the membrane of live cells or more recently inside live cells. These single-molecule fluorescence studies have now reached a stage where they can provide new insights into important biological problems. After presenting the principles of these methods, I will give some examples from our current research to probe the molecular basis of neurodegeneration. Here we have used single-molecule fluorescence to detect and analyse the low concentrations of soluble protein aggregates thought to be responsible for Alzheimer’s disease and determine the mechanisms by which they damage neurons. Lastly, I will describe how fundamental science aimed at watching single molecules incorporating nucleotides into DNA gave rise to a new rapid method to sequence DNA that is now widely used.',\n",
       " 'hosted_by': 'SONA',\n",
       " 'domain': ['Neuroscience'],\n",
       " 'timestamp': 1588258800,\n",
       " 'partition_key': '6724',\n",
       " 'calendar_event_hash': 'eccc698fb39f9a009896f693111c4ab5671c1819500850036e65fe2cf6b6411c',\n",
       " 'matching_data': {'matching_employers': [{'job_type': ['Intern',\n",
       "     'MSc',\n",
       "     'PhD',\n",
       "     'Post-Doc',\n",
       "     'Lab Technician',\n",
       "     'Research Assistant',\n",
       "     'Research Fellow',\n",
       "     'Data Scientist'],\n",
       "    'employer_name': 'Prof Richard Smith',\n",
       "    'affiliation': 'Northwestern Medical School',\n",
       "    'url': 'https://www.world-wide.org/jobs/e/hXZUOyPWMgAie6',\n",
       "    'matching_score': 0.6965},\n",
       "   {'job_type': ['Post-Doc'],\n",
       "    'employer_name': 'Professor Jesse Meyer',\n",
       "    'affiliation': 'Medical College of Wisconsin',\n",
       "    'url': 'https://www.world-wide.org/jobs/e/mPREtMra3teGmh',\n",
       "    'matching_score': 0.6875}],\n",
       "  'matching_seminars': [{'seminar_title': 'Tools for Analyzing and Repairing the Brain. (Simultaneous translation to Spanish)',\n",
       "    'seminar_speaker': 'Ed Boyden',\n",
       "    'speaker_title': 'Professor',\n",
       "    'speaker_affil': 'Y. Eva Tan Professor in Neurotechnology at MIT',\n",
       "    'url': 'https://www.world-wide.org/seminar/5624',\n",
       "    'matching_score': 0.744},\n",
       "   {'seminar_title': 'Non-equilibrium molecular assembly in reshaping and cutting cells',\n",
       "    'seminar_speaker': 'Anđela Šarić',\n",
       "    'speaker_title': 'Prof',\n",
       "    'speaker_affil': 'University College London',\n",
       "    'url': 'https://www.world-wide.org/seminar/6772',\n",
       "    'matching_score': 0.744},\n",
       "   {'seminar_title': 'Mathematics of diffusive transport with applications to chemoreception and nuclear scaling',\n",
       "    'seminar_speaker': 'Alan Lindsay',\n",
       "    'speaker_title': 'Dr.',\n",
       "    'speaker_affil': 'University of Notre Dame',\n",
       "    'url': 'https://www.world-wide.org/seminar/6271',\n",
       "    'matching_score': 0.728}]},\n",
       " 'seminar_id': 6724,\n",
       " 'time_of_addition': 'Mon, May 31, 2021 12:23',\n",
       " 'Event Duration': 70.000025,\n",
       " 'biorxiv_rec': True}"
      ]
     },
     "execution_count": 63,
     "metadata": {},
     "output_type": "execute_result"
    }
   ],
   "source": [
    "list(data.values())[0]"
   ]
  },
  {
   "cell_type": "code",
   "execution_count": 67,
   "id": "52c7b190-8109-4dfd-807b-6a450be218a2",
   "metadata": {},
   "outputs": [
    {
     "data": {
      "application/vnd.jupyter.widget-view+json": {
       "model_id": "879cbeb61ecb4416afa5d00ae0eaffb7",
       "version_major": 2,
       "version_minor": 0
      },
      "text/plain": [
       "Batches:   0%|          | 0/70 [00:00<?, ?it/s]"
      ]
     },
     "metadata": {},
     "output_type": "display_data"
    }
   ],
   "source": [
    "from sentence_transformers import SentenceTransformer\n",
    "\n",
    "# Based on AllenAI specter\n",
    "# https://github.com/UKPLab/sentence-transformers/blob/master/examples/applications/semantic-search/semantic_search_publications.py\n",
    "model = SentenceTransformer('allenai-specter')\n",
    "\n",
    "paper_texts = [x['seminar_title'] + '[SEP]' + x['seminar_abstract'] for x in data.values()]\n",
    "\n",
    "encodings = model.encode(paper_texts, show_progress_bar=True)"
   ]
  },
  {
   "cell_type": "code",
   "execution_count": 89,
   "id": "9aa7d890-c3ff-4e4b-931f-5389daddc66d",
   "metadata": {},
   "outputs": [
    {
     "data": {
      "text/plain": [
       "{'corpus_id': 0, 'score': 1.0000004768371582}"
      ]
     },
     "execution_count": 89,
     "metadata": {},
     "output_type": "execute_result"
    }
   ],
   "source": [
    "search_hits[0][0]"
   ]
  },
  {
   "cell_type": "code",
   "execution_count": 96,
   "id": "10c23174-557b-4095-a241-5b49525eb517",
   "metadata": {},
   "outputs": [
    {
     "data": {
      "text/plain": [
       "{'disease', 'single-molecule fluorescence'}"
      ]
     },
     "execution_count": 96,
     "metadata": {},
     "output_type": "execute_result"
    }
   ],
   "source": [
    "set(data[keys[0]]['topic_tags'])"
   ]
  },
  {
   "cell_type": "code",
   "execution_count": 131,
   "id": "657e708f-f533-4c29-b417-7505b9ec2c09",
   "metadata": {},
   "outputs": [
    {
     "data": {
      "text/html": [
       "<h1>Query</h1><h2>Watching single molecules in action: How this can be used in neurodegeneration</h2><p>This talk aims to show how new physical methods can advance biological and biomedical research.  A major advance in physical chemistry in the last two decades has been the development of quantitative methods to directly observe individual molecules in solution, attached to surfaces, in the membrane of live cells or more recently inside live cells. These single-molecule fluorescence studies have now reached a stage where they can provide new insights into important biological problems. After presenting the principles of these methods, I will give some examples from our current research to probe the molecular basis of neurodegeneration. Here we have used single-molecule fluorescence to detect and analyse the low concentrations of soluble protein aggregates thought to be responsible for Alzheimer’s disease and determine the mechanisms by which they damage neurons. Lastly, I will describe how fundamental science aimed at watching single molecules incorporating nucleotides into DNA gave rise to a new rapid method to sequence DNA that is now widely used.</p><p>Score: 1.0000004768371582</p><h1>Results</h1><h2>Targeting the synapse in Alzheimer’s Disease</h2><p>Alzheimer’s Disease is characterised by the accumulation of misfolded proteins, namely amyloid and tau, however it is synapse loss which leads to the cognitive impairments associated with the disease. Many studies have focussed on single time points to determine the effects of pathology on synapses however this does not inform on the plasticity of the synapses, that is how they behave in vivo as the pathology progresses. Here we used in vivo two-photon microscopy to assess the temporal dynamics of axonal boutons and dendritic spines in mouse models of tauopathy[1] (rTg4510) and amyloidopathy[2] (J20). This revealed that pre- and post-synaptic components are differentially affected in both AD models in response to pathology. In the Tg4510 model, differences in the stability and turnover of axonal boutons and dendritic spines immediately prior to neurite degeneration was revealed. Moreover, the dystrophic neurites could be partially rescued by transgene suppression. Understanding the imbalance in the response of pre- and post-synaptic components is crucial for drug discovery studies targeting the synapse in Alzheimer’s Disease. To investigate how sub-types of synapses are affected in human tissue, the Multi-‘omics Atlas Project, a UKDRI initiative to comprehensively map the pathology in human AD, will determine the synaptome changes using imaging and synaptic proteomics in human post mortem AD tissue. The use of multiple brain regions and multiple stages of disease will enable a pseudotemporal profile of pathology and the associated synapse alterations to be determined. These data will be compared to data from preclinical models to determine the functional implications of the human findings, to better inform preclinical drug discovery studies and to develop a therapeutic strategy to target synapses in Alzheimer’s Disease[3].</p><p>Score: 0.5624479055404663</p><h2>CURE-ND Neurotechnology Workshop - Innovative models of neurodegenerative diseases</h2><p>One of the major roadblocks to medical progress in the field of neurodegeneration is the absence of animal models that fully recapitulate features of the human diseases. Unprecedented opportunities to tackle this challenge are emerging e.g. from genome engineering and stem cell technologies, and there are intense efforts to develop models with a high translational value. Simultaneously, single-cell, multi-omics and optogenetics technologies now allow longitudinal, molecular and functional analysis of human disease processes in these models at high resolution. During this workshop, 12 experts will present recent progress in the field and discuss: - What are the most advanced disease models available to date? - Which aspects of the human disease do these accurately models, which ones do they fail to replicate? - How should models be validated? Against which reference, which standards? - What are currently the best methods to analyse these models? - What is the field still missing in terms of modelling, and of technologies to analyse disease models? CURE-ND stands for 'Catalysing a United Response in Europe to Neurodegenerative Diseases'. It is a new alliance between the German Center for Neurodegenerative Diseases (DZNE), the Paris Brain Institute (ICM), Mission Lucidity (ML, a partnership between imec, KU Leuven, UZ Leuven and VIB in Belgium) and the UK Dementia Research Institute (UK DRI). Together, these partners embrace a joint effort to accelerate the pace of scientific discovery and nurture breakthroughs in the field of neurodegenerative diseases. This Neurotechnology Workshop is the first in a series of joint events aiming at exchanging expertise, promoting scientific collaboration and building a strong community of neurodegeneration researchers in Europe and beyond.</p><p>Score: 0.5445544123649597</p><h2>Development and Application of PET Imaging for Dementia Research</h2><p>Molecular imaging using Positron Emission Tomography (PET) has become a major biomedical imaging technology. Its application towards characterisation of biochemical processes in disease could enable early detection and diagnosis, development of novel therapies and treatment evaluation. The technology is underpinned by the use of imaging probes radiolabelled with short-lived radioisotopes which can be specific and selective for biological targets in vivo e.g. markers for receptors, protein deposits, enzymes and metabolism. My talk will focus on the increasing development and application of PET imaging to clinical research in neurodegenerative diseases, for which it can be applied to delineate and understand the various pathological components of these disorders.</p><p>Score: 0.5261231064796448</p><h2>Neuron-glia interactions in synapse degeneration in Alzheimer's disease</h2><p>Tara Spires-Jones’ research focuses on the mechanisms and reversibility of neurodegeneration in Alzheimer’s disease, other degenerative brain diseases, and ageing.  The objective of her research group is to understand why synapses and neurons become dysfunctional and die in these diseases in order to develop effective therapeutic strategies. Her work has shown that soluble forms of the pathological proteins amyloid beta and tau contribute to synapse degeneration, and that lowering levels of these proteins can prevent and reverse phenotypes in model systems. Further, she has pioneered high-resolution imaging techniques in human post-mortem brain and found evidence that these proteins accumulate in synapses in human disease.</p><p>Score: 0.524914026260376</p>"
      ],
      "text/plain": [
       "<IPython.core.display.HTML object>"
      ]
     },
     "execution_count": 131,
     "metadata": {},
     "output_type": "execute_result"
    }
   ],
   "source": [
    "from sentence_transformers import util\n",
    "\n",
    "search_id = 0\n",
    "keys = list(data.keys())\n",
    "search_hits = util.semantic_search(encodings[search_id], encodings)\n",
    "\n",
    "html = \"\"\n",
    "for i in range(5):\n",
    "    if i == 0:\n",
    "        html += \"<h1>Query</h1>\"\n",
    "    elif i == 1:\n",
    "        html += \"<h1>Results</h1>\"\n",
    "        \n",
    "    corpus_id = search_hits[0][i]['corpus_id']\n",
    "    html += f\"<h2>{data[keys[corpus_id]]['seminar_title']}</h2>\"\n",
    "    html += f\"<p>{data[keys[corpus_id]]['seminar_abstract']}</p>\"\n",
    "    html += f\"<p>Score: {search_hits[0][i]['score']}</p>\"\n",
    "        \n",
    "HTML(html)"
   ]
  },
  {
   "cell_type": "code",
   "execution_count": 120,
   "id": "fa000add-7c9d-4385-a33a-1d191da424dc",
   "metadata": {},
   "outputs": [],
   "source": [
    "# Evaluate the quality of the hits\n",
    "keys = list(data.keys())\n",
    "f1s = []\n",
    "\n",
    "for search_id in range(len(data)):\n",
    "    search_hits = util.semantic_search(encodings[search_id], encodings)\n",
    "    \n",
    "    # Take the top 5 hits\n",
    "    for i in range(1, 5):\n",
    "        if search_hits[0][i]['score'] > .99:\n",
    "            # Exact duplicate, remove\n",
    "            continue\n",
    "        break\n",
    "    top5 = search_hits[0][i:i+5]\n",
    "    \n",
    "    # Calculate tag overlap\n",
    "    f1 = 0\n",
    "    tags = set(data[keys[search_id]]['topic_tags'])\n",
    "    if len(tags) == 0:\n",
    "        continue\n",
    "    \n",
    "    for i in range(5):\n",
    "        tags2 = set(data[keys[search_hits[0][i]['corpus_id']]]['topic_tags'])\n",
    "        f1 += len(tags.intersection(tags2)) / (1/2 * (.01 + len(tags) + len(tags2)))\n",
    "    \n",
    "    f1 = f1/5\n",
    "    \n",
    "    f1s.append(f1)\n"
   ]
  },
  {
   "cell_type": "markdown",
   "id": "0c0ec495-96d3-4341-85fa-f2af8ac8d666",
   "metadata": {},
   "source": [
    "# Evaluate the quality of different embeddings\n",
    "\n",
    "By assumption, conventional embeddings (Glove, TF-IDF, etc.) will be worse than an all-purpose new-style embedding, which will be worse than a model trained with scientific text. Let's test this out."
   ]
  },
  {
   "cell_type": "code",
   "execution_count": 127,
   "id": "9f78d657-0d8d-4e5c-9b2e-d6958418f0d1",
   "metadata": {},
   "outputs": [
    {
     "data": {
      "application/vnd.jupyter.widget-view+json": {
       "model_id": "4608f15b1e5f4584a86801923ab9b9bd",
       "version_major": 2,
       "version_minor": 0
      },
      "text/plain": [
       "Batches:   0%|          | 0/70 [00:00<?, ?it/s]"
      ]
     },
     "metadata": {},
     "output_type": "display_data"
    },
    {
     "name": "stdout",
     "output_type": "stream",
     "text": [
      "average_word_embeddings_glove.6B.300d\n",
      "0.09838699514952037\n"
     ]
    },
    {
     "data": {
      "application/vnd.jupyter.widget-view+json": {
       "model_id": "84bfe2bd41b646feb0b1c722ddca4afb",
       "version_major": 2,
       "version_minor": 0
      },
      "text/plain": [
       "Batches:   0%|          | 0/70 [00:00<?, ?it/s]"
      ]
     },
     "metadata": {},
     "output_type": "display_data"
    },
    {
     "name": "stdout",
     "output_type": "stream",
     "text": [
      "allenai-specter\n",
      "0.13881155986147858\n"
     ]
    },
    {
     "data": {
      "application/vnd.jupyter.widget-view+json": {
       "model_id": "c20490511a224df1a5a5055a89162fe8",
       "version_major": 2,
       "version_minor": 0
      },
      "text/plain": [
       "Batches:   0%|          | 0/70 [00:00<?, ?it/s]"
      ]
     },
     "metadata": {},
     "output_type": "display_data"
    },
    {
     "name": "stdout",
     "output_type": "stream",
     "text": [
      "all-mpnet-base-v2\n",
      "0.15356928796395233\n"
     ]
    }
   ],
   "source": [
    "from sentence_transformers import SentenceTransformer\n",
    "model_names = ['average_word_embeddings_glove.6B.300d', 'allenai-specter', 'all-mpnet-base-v2']\n",
    "\n",
    "def eval_top5(encodings):\n",
    "    keys = list(data.keys())\n",
    "    f1s = []\n",
    "    top5s = []\n",
    "\n",
    "    for search_id in range(len(data)):\n",
    "        search_hits = util.semantic_search(encodings[search_id], encodings)\n",
    "\n",
    "        # Take the top 5 hits\n",
    "        for i in range(1, 5):\n",
    "            if search_hits[0][i]['score'] > .99:\n",
    "                # Exact duplicate, remove\n",
    "                continue\n",
    "            break\n",
    "        top5 = search_hits[0][i:i+5]\n",
    "\n",
    "        # Calculate tag overlap\n",
    "        f1 = 0\n",
    "        tags = set(data[keys[search_id]]['topic_tags'])\n",
    "        if len(tags) == 0:\n",
    "            continue\n",
    "\n",
    "        for i in range(5):\n",
    "            tags2 = set(data[keys[top5[i]['corpus_id']]]['topic_tags'])\n",
    "            f1 += len(tags.intersection(tags2)) / (1/2 * (.01 + len(tags) + len(tags2)))\n",
    "\n",
    "        f1 = f1/5\n",
    "\n",
    "        f1s.append(f1)\n",
    "        top5s.append(top5)\n",
    "    return f1s, np.stack(top5, axis=0)\n",
    "\n",
    "\n",
    "f1ss = []\n",
    "top5s = []\n",
    "for model_name in model_names:\n",
    "    # Based on AllenAI specter\n",
    "    # https://github.com/UKPLab/sentence-transformers/blob/master/examples/applications/semantic-search/semantic_search_publications.py\n",
    "    model = SentenceTransformer(model_name)\n",
    "\n",
    "    paper_texts = [x['seminar_title'] + '[SEP]' + x['seminar_abstract'] for x in data.values()]\n",
    "    encodings = model.encode(paper_texts, show_progress_bar=True)\n",
    "    \n",
    "    f1s, top5 = eval_top5(encodings)\n",
    "    f1ss.append(f1s)\n",
    "    top5s.append(top5)\n",
    "    \n",
    "    print(model_name)\n",
    "    print(np.mean(f1s))\n"
   ]
  },
  {
   "cell_type": "code",
   "execution_count": 123,
   "id": "7d37d547-0219-4d11-b95b-3e63aa0bbb1e",
   "metadata": {},
   "outputs": [
    {
     "data": {
      "text/plain": [
       "0.31558466979197075"
      ]
     },
     "execution_count": 123,
     "metadata": {},
     "output_type": "execute_result"
    }
   ],
   "source": [
    "import matplotlib.pyplot as plt\n",
    "import numpy as np\n",
    "\n",
    "#plt.hist(f1s)\n",
    "np.mean(f1s)"
   ]
  },
  {
   "cell_type": "code",
   "execution_count": 109,
   "id": "17337672-bf4b-474a-b283-f9769e4152b5",
   "metadata": {},
   "outputs": [
    {
     "data": {
      "text/plain": [
       "{'corpus_id': 100, 'score': 0.9523674249649048}"
      ]
     },
     "execution_count": 109,
     "metadata": {},
     "output_type": "execute_result"
    }
   ],
   "source": [
    "search_hits[0][i]"
   ]
  },
  {
   "cell_type": "code",
   "execution_count": 107,
   "id": "1f8856b3-a19e-4f95-88ee-4dac635ade7e",
   "metadata": {},
   "outputs": [
    {
     "data": {
      "text/plain": [
       "{'seminar_date': 'Mon, Oct 12, 2020',\n",
       " 'seminar_time': '16:30',\n",
       " 'timezone': 'Europe/Berlin',\n",
       " 'posted': 'yes',\n",
       " 'seminar_link': 'https://www.crowdcast.io/e/loops-seminars/',\n",
       " 'password': 'loops',\n",
       " 'video_on_demand': '',\n",
       " 'speaker_title': '',\n",
       " 'seminar_speaker': 'Markus Rothermel',\n",
       " 'speaker_affil': 'Dept.\\xa0Chemosensation, RWTH Aachen University, Germany',\n",
       " 'speaker_twitter': '',\n",
       " 'speaker_website': '',\n",
       " 'topic_tags': [],\n",
       " 'seminar_title': 'Influence of cortical and neuromodulatory loops on sensory information processing and perception in the mouse olfactory system',\n",
       " 'seminar_abstract': '',\n",
       " 'hosted_by': 'LOOPS de Hoz - Hechavarria',\n",
       " 'domain': ['Neuroscience'],\n",
       " 'timestamp': 1602520200,\n",
       " 'partition_key': '5940',\n",
       " 'calendar_event_hash': '4540bd6f5c6adccaca7dacf915df86c4e92529ead8f19aa39d98de1c0b3b74a8',\n",
       " 'matching_data': None,\n",
       " 'seminar_id': 5940,\n",
       " 'time_of_addition': 'Mon, May 31, 2021 12:12',\n",
       " 'Event Duration': 70.000025,\n",
       " 'biorxiv_rec': False}"
      ]
     },
     "execution_count": 107,
     "metadata": {},
     "output_type": "execute_result"
    }
   ],
   "source": [
    "data[keys[46]]"
   ]
  },
  {
   "cell_type": "markdown",
   "id": "56328b33-1c12-4bd1-9dfd-1d4c073dd373",
   "metadata": {},
   "source": [
    "# Tagging different seminars"
   ]
  },
  {
   "cell_type": "code",
   "execution_count": 16,
   "id": "6944e5f2-fc00-4663-bb55-9bb3e9cb9aec",
   "metadata": {},
   "outputs": [],
   "source": [
    "# Compute the number of distinct tags\n",
    "from collections import Counter\n",
    "c = Counter()\n",
    "for k, v in data.items():\n",
    "    c.update([x.lower() for x in v['topic_tags']])\n",
    "    \n",
    "# Only pick the most common cases\n",
    "tag_numbers = {k: i for i, (k, v) in enumerate(c.most_common(1000)) if v > 1}"
   ]
  }
 ],
 "metadata": {
  "kernelspec": {
   "display_name": "Python 3 (ipykernel)",
   "language": "python",
   "name": "python3"
  },
  "language_info": {
   "codemirror_mode": {
    "name": "ipython",
    "version": 3
   },
   "file_extension": ".py",
   "mimetype": "text/x-python",
   "name": "python",
   "nbconvert_exporter": "python",
   "pygments_lexer": "ipython3",
   "version": "3.9.12"
  }
 },
 "nbformat": 4,
 "nbformat_minor": 5
}
